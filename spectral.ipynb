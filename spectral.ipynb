{
 "cells": [
  {
   "cell_type": "code",
   "execution_count": null,
   "metadata": {
    "collapsed": true
   },
   "outputs": [],
   "source": [
    "from itertools import combinations\n",
    "import numpy as np\n",
    "import matplotlib.pyplot as plt\n",
    "from sklearn.metrics import homogeneity_score\n",
    "from data import get_data_w_labels, DATASETS_2D, DATASETS_2D_Ks, get_data_wo_labels\n",
    "from spectral import Spectral\n",
    "from utils import plot_clusters, save_plots\n",
    "\n",
    "plots = []"
   ]
  },
  {
   "cell_type": "code",
   "execution_count": null,
   "outputs": [],
   "source": [
    "def cost(x, ids):\n",
    "    clusters = ((xi for i, xi in enumerate(x) if ids[i] == cid) for cid in set(ids))\n",
    "    inner_costs = (sum(np.linalg.norm(xi - xj) for xi, xj in combinations(cluster, 2)) for cluster in clusters)\n",
    "    return sum(inner_costs)"
   ],
   "metadata": {
    "collapsed": false,
    "pycharm": {
     "name": "#%%\n"
    }
   }
  },
  {
   "cell_type": "code",
   "execution_count": null,
   "outputs": [],
   "source": [
    "def handle_2D_dataset(x, y, max_k=10):\n",
    "    sqr = int(max_k ** .5)\n",
    "    fig = plt.figure(figsize=(30, 30 * ((sqr + 2) / sqr)))\n",
    "    widths = sqr * [10]\n",
    "    heights = sqr * [10] + [10] + [15]\n",
    "    gs = fig.add_gridspec(ncols=sqr, nrows=sqr + 2, width_ratios=widths, height_ratios=heights)\n",
    "\n",
    "    costs, homo = [], []\n",
    "    for k in range(2, max_k + 1):\n",
    "        ids = Spectral().cluster(x, k, 1)\n",
    "        costs.append(cost(x, ids))\n",
    "        homo.append(homogeneity_score(y, ids))\n",
    "\n",
    "        ax = fig.add_subplot(gs[(k - 2) // sqr, (k - 2) % sqr], aspect='equal')\n",
    "        plot_clusters(ax, x, ids)\n",
    "        ax.set_title(f'{k} clusters', fontsize=30)\n",
    "        ax.label_outer()\n",
    "\n",
    "    ax_err, ax_homo = fig.add_subplot(gs[-2, :(sqr + 1) // 2], ), fig.add_subplot(gs[-2, (sqr + 1) // 2:])\n",
    "    ax_err.set_title(f'Number of clusters vs cost', fontsize=30)\n",
    "    ax_err.plot(range(2, max_k + 1), costs, 'bx-', ms=10, mec='k')\n",
    "    ax_err.axvline(len(set(y)), c='red')\n",
    "\n",
    "    ax_homo.set_title(f'Number of clusters vs homogenity score', fontsize=30)\n",
    "    ax_homo.plot(range(2, max_k + 1), homo, 'bx-', ms=10, mec='k')\n",
    "    ax_homo.axvline(len(set(y)), c='red')\n",
    "\n",
    "    ax_true = fig.add_subplot(gs[-1, :], aspect='equal')\n",
    "    ax_true.set_title(f'True clusters', fontsize=30)\n",
    "    plot_clusters(ax_true, x, y)\n",
    "\n",
    "    fig.tight_layout(pad=3.0)\n",
    "    plots.append(fig)\n",
    "\n",
    "\n",
    "for dataset, max_k in zip(DATASETS_2D, DATASETS_2D_Ks):\n",
    "    x, y = get_data_w_labels(dataset)\n",
    "    y = y.astype(int).flatten() - 1\n",
    "    handle_2D_dataset(x, y, max_k)\n",
    "    plt.show()\n",
    "\n"
   ],
   "metadata": {
    "collapsed": false,
    "pycharm": {
     "name": "#%%\n"
    }
   }
  },
  {
   "cell_type": "code",
   "execution_count": null,
   "outputs": [],
   "source": [
    "def handle_rp_dataset(x, y):\n",
    "    ids = Spectral().cluster(x, 2, 1.)\n",
    "\n",
    "    print(f'Cost after spectral: {cost(x, ids)}')\n",
    "    print(f'Cost from data:      {cost(x, y)}')\n",
    "    print(f'Homogenity score:    {homogeneity_score(y, ids)}')\n",
    "\n",
    "\n",
    "x_rp, y_rp = get_data_w_labels('data/rp.data')\n",
    "y_rp = np.array(y_rp, dtype=int).flatten()\n",
    "y_rp[y_rp == 2] = 0\n",
    "y_rp[y_rp == 4] = 1\n",
    "handle_rp_dataset(x_rp, y_rp)"
   ],
   "metadata": {
    "collapsed": false,
    "pycharm": {
     "name": "#%%\n"
    }
   }
  },
  {
   "cell_type": "code",
   "execution_count": null,
   "outputs": [],
   "source": [
    "def handle_9D_dataset(x, max_k=20):\n",
    "    costs = []\n",
    "    for k in range(2, max_k + 1):\n",
    "        ids = Spectral().cluster(x, k, 1.)\n",
    "        costs.append(cost(x, ids))\n",
    "\n",
    "    fig, ax_err = plt.subplots(figsize=(10, 10))\n",
    "    plots.append(fig)\n",
    "    ax_err.set_title(f'Number of clusters vs cost')\n",
    "    ax_err.plot(range(2, max_k + 1), costs, 'bx-', ms=10, mec='k')\n",
    "\n",
    "\n",
    "x_9d = get_data_wo_labels('data/dane_9D.txt')\n",
    "handle_9D_dataset(x_9d)"
   ],
   "metadata": {
    "collapsed": false,
    "pycharm": {
     "name": "#%%\n"
    }
   }
  },
  {
   "cell_type": "code",
   "execution_count": null,
   "outputs": [],
   "source": [
    "save_plots(plots, 'spectral.pdf')\n"
   ],
   "metadata": {
    "collapsed": false,
    "pycharm": {
     "name": "#%%\n"
    }
   }
  }
 ],
 "metadata": {
  "kernelspec": {
   "display_name": "Python 3",
   "language": "python",
   "name": "python3"
  },
  "language_info": {
   "codemirror_mode": {
    "name": "ipython",
    "version": 2
   },
   "file_extension": ".py",
   "mimetype": "text/x-python",
   "name": "python",
   "nbconvert_exporter": "python",
   "pygments_lexer": "ipython2",
   "version": "2.7.6"
  }
 },
 "nbformat": 4,
 "nbformat_minor": 0
}